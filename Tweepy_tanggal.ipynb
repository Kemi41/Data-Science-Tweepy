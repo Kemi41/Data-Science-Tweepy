{
 "cells": [
  {
   "cell_type": "code",
   "execution_count": 1,
   "metadata": {},
   "outputs": [],
   "source": [
    "import json\n",
    "import tweepy\n",
    "import re\n",
    "import pandas as pd\n",
    "import matplotlib.pyplot as plt\n",
    "import numpy as np"
   ]
  },
  {
   "cell_type": "code",
   "execution_count": 2,
   "metadata": {},
   "outputs": [],
   "source": [
    "api_key = '# ur api key'\n",
    "api_key_sct = '# ur api key secret'\n",
    "\n",
    "acc_token = '# ur acc token'\n",
    "acc_token_sct = '# ur api key secret'\n",
    "\n",
    "auth = tweepy.OAuthHandler(api_key, api_key_sct)\n",
    "auth.set_access_token(acc_token, acc_token_sct)\n",
    "api = tweepy.API(auth)"
   ]
  },
  {
   "cell_type": "code",
   "execution_count": 106,
   "metadata": {},
   "outputs": [],
   "source": [
    "twit = []\n",
    "list_jouska = []\n",
    "list_anies = []\n",
    "\n",
    "pd.set_option('display.max_colwidth', -1)\n",
    "\n",
    "def search(search_words,date_since,new_search) :\n",
    "    tweets = tweepy.Cursor(api.search,\n",
    "        q = new_search,\n",
    "        lang = \"id\",\n",
    "        since = date_since,\n",
    "        tweet_mode = \"extended\").items(50)\n",
    "    \n",
    "    \n",
    "    items = []\n",
    "    for tweet in tweets :\n",
    "        item = []\n",
    "        item.append (tweet.user.screen_name)\n",
    "        item.append (tweet.user.location)\n",
    "        item.append (' '.join(re.sub(\"(@[A-Za-z0-9]+)|([^0-9A-Za-z \\t])|(\\w+:\\/\\/\\S+)\", \" \", tweet.full_text).split()))\n",
    "        items.append(item)\n",
    "    \n",
    "    global df_tweet\n",
    "    df_tweet = pd.DataFrame(data=items, columns = ['user', 'loct', 'tweet'])\n",
    "    \n",
    "def jouska() :\n",
    "    search_words = 'jouska'\n",
    "    date_since = '2020-07-25'\n",
    "    new_search = search_words + \" -filter:retweets\"\n",
    "    search(search_words,date_since,new_search)\n",
    "    global json_tweet\n",
    "    json_tweet = df_tweet.to_json(orient = 'split')\n"
   ]
  }
 ],
 "metadata": {
  "kernelspec": {
   "display_name": "Python 3",
   "language": "python",
   "name": "python3"
  },
  "language_info": {
   "codemirror_mode": {
    "name": "ipython",
    "version": 3
   },
   "file_extension": ".py",
   "mimetype": "text/x-python",
   "name": "python",
   "nbconvert_exporter": "python",
   "pygments_lexer": "ipython3",
   "version": "3.7.4"
  }
 },
 "nbformat": 4,
 "nbformat_minor": 2
}
